{
  "cells": [
    {
      "cell_type": "markdown",
      "metadata": {
        "id": "view-in-github",
        "colab_type": "text"
      },
      "source": [
        "<a href=\"https://colab.research.google.com/github/KevinNitroG/Public-Stuff/blob/main/Vps_Google_Colab_with_key_ngrok.ipynb\" target=\"_parent\"><img src=\"https://colab.research.google.com/assets/colab-badge.svg\" alt=\"Open In Colab\"/></a>"
      ]
    },
    {
      "cell_type": "code",
      "execution_count": null,
      "metadata": {
        "id": "t78mWVZdML_x"
      },
      "outputs": [],
      "source": [
        "#@title **VPS VNC Viewer Windows 10 x64, 7 x32, XP x32**\n",
        "#@markdown Windows VNC Colab chạy tối đa 12 giờ<br><br>\n",
        "#@markdown Lấy ngrok auth token:<br>\n",
        "#@markdown [Key Ngrok Auth Token](https://dashboard.ngrok.com/get-started/your-authtoken)<br><br>\n",
        "#@markdown Ấn nút tam giác và đợi chạy... <br>\n",
        "#@markdown Video hướng dẫn: chưa có video"
      ]
    },
    {
      "cell_type": "markdown",
      "metadata": {
        "id": "g6ttWadv3k3g"
      },
      "source": [
        "NHỚ CHỈNH THỜI GIAN CHẠY LẠI LÀ GPU NHA"
      ]
    },
    {
      "cell_type": "markdown",
      "metadata": {
        "id": "f_9FFy8D3GXa"
      },
      "source": [
        "VPS Windows 10 64bit ở dưới↓"
      ]
    },
    {
      "cell_type": "code",
      "execution_count": null,
      "metadata": {
        "colab": {
          "background_save": true
        },
        "id": "CCxrwDDitYOZ"
      },
      "outputs": [],
      "source": [
        "! wget https://github.com/kmille36/Linux-to-Windows-with-QEMU/raw/master/Linux_QemuWindows10ColabNoVT-X.sh >/dev/null 2>&1\n",
        "! chmod +x Linux_QemuWindows10ColabNoVT-X.sh\n",
        "! ./Linux_QemuWindows10ColabNoVT-X.sh"
      ]
    },
    {
      "cell_type": "markdown",
      "metadata": {
        "id": "0S4PLMg03Opq"
      },
      "source": [
        "VPS Windows 7 32bit ở dưới↓"
      ]
    },
    {
      "cell_type": "code",
      "execution_count": null,
      "metadata": {
        "id": "peOQhgpVxA10"
      },
      "outputs": [],
      "source": [
        "! wget https://github.com/kmille36/Linux-to-Windows-with-QEMU/raw/master/Linux_QemuWindows7ColabNoVT-X.sh >/dev/null 2>&1\n",
        "! chmod +x Linux_QemuWindows7ColabNoVT-X.sh\n",
        "! ./Linux_QemuWindows7ColabNoVT-X.sh"
      ]
    },
    {
      "cell_type": "markdown",
      "metadata": {
        "id": "NrkJsukJ3cpX"
      },
      "source": [
        "VPS Windows XP 32bit ở dưới↓"
      ]
    },
    {
      "cell_type": "code",
      "execution_count": null,
      "metadata": {
        "colab": {
          "background_save": true,
          "base_uri": "https://localhost:8080/"
        },
        "id": "XTi4R8yay0J_",
        "outputId": "bd72f9c6-d450-4336-96c2-8027a51c45c2"
      },
      "outputs": [
        {
          "name": "stdout",
          "output_type": "stream",
          "text": [
            "Paste authtoken here (Copy and Ctrl+V to paste then press Enter): 21aWyAUc33X5wZOztZ3CUkMJ44u_85mhP8qePJG38rpHwQug\n",
            "Authtoken saved to configuration file: /root/.ngrok2/ngrok.yml\n",
            "Please wait for installing...\n",
            "Installing QEMU (2-3m)...\n",
            "Downloading Windows Disk...\n",
            "  % Total    % Received % Xferd  Average Speed   Time    Time     Time  Current\n",
            "                                 Dload  Upload   Total   Spent    Left  Speed\n",
            "100   167    0   167    0     0    498      0 --:--:-- --:--:-- --:--:--   498\n",
            "100   300    0   300    0     0    572      0 --:--:-- --:--:-- --:--:--  292k\n",
            "100   838  100   838    0     0   1052      0 --:--:-- --:--:-- --:--:--  1052\n",
            "100 2371M  100 2371M    0     0  22.1M      0  0:01:46  0:01:46 --:--:-- 22.8M\n",
            "Windows XP x86 On Google Colab\n",
            "Your VNC IP Address:\n",
            "6.tcp.ngrok.io:15130\n",
            "Note: Use Right-Click Or Ctrl+C To Copy\n",
            "Please Keep Colab Tab Open, Maximum Time 12h\n",
            "Script by fb.com/thuong.hai.581\n"
          ]
        }
      ],
      "source": [
        "! wget https://github.com/kmille36/Linux-to-Windows-with-QEMU/raw/master/Linux_QemuWindowsXPColabNoVT-X.sh >/dev/null 2>&1\n",
        "! chmod +x Linux_QemuWindowsXPColabNoVT-X.sh\n",
        "! ./Linux_QemuWindowsXPColabNoVT-X.sh"
      ]
    }
  ],
  "metadata": {
    "colab": {
      "collapsed_sections": [],
      "name": "Vps Google Colab with key ngrok.ipynb",
      "provenance": [],
      "include_colab_link": true
    },
    "kernelspec": {
      "display_name": "Python 3",
      "name": "python3"
    },
    "language_info": {
      "name": "python"
    }
  },
  "nbformat": 4,
  "nbformat_minor": 0
}